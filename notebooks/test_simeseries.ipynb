{
 "cells": [
  {
   "cell_type": "code",
   "execution_count": 1,
   "metadata": {},
   "outputs": [],
   "source": []
  },
  {
   "cell_type": "code",
   "execution_count": 12,
   "metadata": {},
   "outputs": [
    {
     "name": "stderr",
     "output_type": "stream",
     "text": [
      "[2019-03-18 20:04:20,661] WARNING in __init__: Loaded app with settings: Development\n"
     ]
    },
    {
     "name": "stdout",
     "output_type": "stream",
     "text": [
      "No THERM_DEVICE found; disabling hardware support\n"
     ]
    },
    {
     "name": "stderr",
     "output_type": "stream",
     "text": [
      "/Users/markvan/.virtualenvs/therm/lib/python3.6/site-packages/ipykernel_launcher.py:21: SettingWithCopyWarning: \n",
      "A value is trying to be set on a copy of a slice from a DataFrame\n",
      "\n",
      "See the caveats in the documentation: http://pandas.pydata.org/pandas-docs/stable/indexing.html#indexing-view-versus-copy\n"
     ]
    },
    {
     "data": {
      "text/plain": [
       "<matplotlib.axes._subplots.AxesSubplot at 0x11227af60>"
      ]
     },
     "execution_count": 12,
     "metadata": {},
     "output_type": "execute_result"
    },
    {
     "data": {
      "image/png": "[encoded data removed]",
      "text/plain": [
       "<Figure size 432x288 with 1 Axes>"
      ]
     },
     "metadata": {
      "needs_background": "light"
     },
     "output_type": "display_data"
    }
   ],
   "source": [
    "from therm import create_app\n",
    "from therm.models import Sample, State\n",
    "import matplotlib.pyplot as plt\n",
    "from datetime import datetime, timedelta\n",
    "import pandas as pd\n",
    "\n",
    "\n",
    "app = create_app('Development')\n",
    "%matplotlib inline\n",
    "\n",
    "hours = 2\n",
    "with app.app_context():\n",
    "    samples_ts = Sample.timeseries(Sample.since(datetime.utcnow() - timedelta(hours=hours)))\n",
    "    states_ts = State.timeseries(State.since(datetime.utcnow() - timedelta(hours=hours)))\n",
    "    samples_df = Sample.dataframe(Sample.since(datetime.utcnow() - timedelta(hours=hours)))\n",
    "    states_df = State.dataframe(State.since(datetime.utcnow() - timedelta(hours=hours)))\n",
    "    \n",
    "# drop some states\n",
    "states_df = states_df[::2]\n",
    "states_df.set_point[::7] += 2\n",
    "states_df.set_point[::3] += .5\n",
    "\n",
    "samples_df['temp'].plot(style=\"bs\")\n",
    "states_df['set_point'].plot(style=\"g^\")"
   ]
  },
  {
   "cell_type": "code",
   "execution_count": 13,
   "metadata": {},
   "outputs": [
    {
     "name": "stdout",
     "output_type": "stream",
     "text": [
      "117\n",
      "118\n",
      "52\n",
      "52\n"
     ]
    },
    {
     "name": "stderr",
     "output_type": "stream",
     "text": [
      "/Users/markvan/.virtualenvs/therm/lib/python3.6/site-packages/ipykernel_launcher.py:3: FutureWarning: Sorting because non-concatenation axis is not aligned. A future version\n",
      "of pandas will change to not sort by default.\n",
      "\n",
      "To accept the future behavior, pass 'sort=False'.\n",
      "\n",
      "To retain the current behavior and silence the warning, pass 'sort=True'.\n",
      "\n",
      "  This is separate from the ipykernel package so we can avoid doing imports until\n"
     ]
    },
    {
     "data": {
      "text/plain": [
       "<matplotlib.axes._subplots.AxesSubplot at 0x112c6cc18>"
      ]
     },
     "execution_count": 13,
     "metadata": {},
     "output_type": "execute_result"
    },
    {
     "data": {
      "image/png": "[encoded data removed]",
      "text/plain": [
       "<Figure size 432x288 with 1 Axes>"
      ]
     },
     "metadata": {
      "needs_background": "light"
     },
     "output_type": "display_data"
    }
   ],
   "source": [
    "def jointerpolate(objs, datetime_index=None, max_points=50):\n",
    "    \"\"\"Join the indexes of multiple timeseries and interpolate onto the joined set of index points\"\"\"\n",
    "    new_index = pd.concat(objs, axis=0).sort_index().index\n",
    "    first = new_index.min()\n",
    "    last = new_index.max()\n",
    "    secs = int((last - first).total_seconds() // (max_points + 1))\n",
    "    periodsize = \"{:d}S\".format(secs)\n",
    "    return (o.resample(periodsize).first() for o in objs)\n",
    "#     idx = pd.date_range(start=first, end=last, freq=periodsize)\n",
    "#     print(\"idx\", len(idx))\n",
    "    \n",
    "# #     new_index = pd.Series(index=new_index, dtype='datetime64[ns]').resample(periodsize).groupby()\n",
    "#     return (pd.concat([obj, pd.Series(index=idx)], axis=0).interpolate(method='time') for obj in objs)\n",
    "\n",
    "def interpolate_multiple(ts_list, max_points=50):\n",
    "    \"\"\"Interpolate multiple timeseries, using first element to select bounds\n",
    "\n",
    "    Args:\n",
    "        ts_list: list of pd.TimeSeries objects to interpolate\n",
    "        max_points:\n",
    "\n",
    "    Returns:\n",
    "        list(pd.Timeseries): resampled timeserieses\n",
    "\n",
    "    \"\"\"\n",
    "    combined = pd.concat(ts_list)\n",
    "    first = combined.index.min()\n",
    "    last = combined.index.max()\n",
    "    resampled_list = []\n",
    "    if first and last and not (pd.isnull(first) or pd.isnull(last)):\n",
    "        # Only do resampling if we have valid bounds. If no points were found, first and last will be NaN\n",
    "        secs = int((last - first).total_seconds() // (max_points + 1))\n",
    "        periodsize = \"{:d}S\".format(secs)\n",
    "\n",
    "        for timeseries in ts_list:\n",
    "            resampled = timeseries.resample(periodsize).mean()\n",
    "            # if any(resampled.isnull()):\n",
    "            #     if sum(resampled.notnull()) > 4:\n",
    "            #         resampled = resampled.interpolate(\"quadratic\")\n",
    "            resampled_list.append(resampled)\n",
    "        return resampled_list\n",
    "    else:\n",
    "        return [Sample.timeseries([]) for _ in resampled_list]\n",
    "    \n",
    "def quantize(ts, target_points=10, max_points=None):\n",
    "    max_points = max_points or target_points * 2\n",
    "    if len(ts) < max_points:\n",
    "        return ts\n",
    "    else:\n",
    "        downsamp = int(len(ts) / max_points)\n",
    "        return ts[::downsamp]\n",
    "    \n",
    "t_min = min(pd.concat([samples_ts, states_ts]))\n",
    "t_max = max(pd.concat([samples_ts, states_ts]))\n",
    "# i_samp, i_state = interpolate_multiple([samples_ts, states_ts])\n",
    "print(len(samples_ts.index))\n",
    "print(len(states_ts.index))\n",
    "# print(len(interp.index))\n",
    "i_samp, i_state = jointerpolate([samples_df, states_df])\n",
    "print(len(i_samp.index))\n",
    "print(len(i_state.index))\n",
    "i_samp['temp'].plot(style='b+')\n",
    "i_state['set_point'].plot(style='g^')\n",
    "# samples_ts.plot(style=\"b.\")\n",
    "# states_ts.plot(style=\"g.\")\n",
    "# q_samp = quantize(samples_ts)\n",
    "# q_state = quantize(states_ts)\n",
    "# qi_samp = quantize(samples_ts)\n",
    "# qi_state = quantize(states_ts)\n",
    "# q_samp.plot(style='b-')\n",
    "# q_state.plot(style='g-')"
   ]
  },
  {
   "cell_type": "code",
   "execution_count": 20,
   "metadata": {},
   "outputs": [
    {
     "name": "stderr",
     "output_type": "stream",
     "text": [
      "/Users/markvan/.virtualenvs/therm/lib/python3.6/site-packages/ipykernel_launcher.py:3: FutureWarning: Sorting because non-concatenation axis is not aligned. A future version\n",
      "of pandas will change to not sort by default.\n",
      "\n",
      "To accept the future behavior, pass 'sort=False'.\n",
      "\n",
      "To retain the current behavior and silence the warning, pass 'sort=True'.\n",
      "\n",
      "  This is separate from the ipykernel package so we can avoid doing imports until\n"
     ]
    },
    {
     "data": {
      "text/plain": [
       "<matplotlib.axes._subplots.AxesSubplot at 0x112e789e8>"
      ]
     },
     "execution_count": 20,
     "metadata": {},
     "output_type": "execute_result"
    },
    {
     "data": {
      "image/png": "[encoded data removed]",
      "text/plain": [
       "<Figure size 432x288 with 1 Axes>"
      ]
     },
     "metadata": {
      "needs_background": "light"
     },
     "output_type": "display_data"
    }
   ],
   "source": [
    "not_enough_state = states_df[::20]\n",
    "ii_samp, ii_state = jointerpolate([samples_df, not_enough_state])\n",
    "\n",
    "ii_samp['temp'].plot(style='b+')\n",
    "ii_state['set_point'].plot(style='g^')"
   ]
  },
  {
   "cell_type": "code",
   "execution_count": 59,
   "metadata": {},
   "outputs": [
    {
     "data": {
      "text/plain": [
       "[74.5,\n",
       " 72.0,\n",
       " 72.0,\n",
       " 72.5,\n",
       " 72.0,\n",
       " 72.0,\n",
       " 72.5,\n",
       " 74.0,\n",
       " 72.0,\n",
       " 72.5,\n",
       " 72.0,\n",
       " 72.0,\n",
       " 72.5,\n",
       " 72.0,\n",
       " 74.0,\n",
       " 72.5,\n",
       " 72.0,\n",
       " 72.0,\n",
       " 72.5,\n",
       " 72.0,\n",
       " 72.0,\n",
       " 74.5,\n",
       " 72.0,\n",
       " 72.0,\n",
       " 72.5,\n",
       " 72.0,\n",
       " 72.0,\n",
       " 72.5,\n",
       " 74.0,\n",
       " 72.0,\n",
       " 72.5,\n",
       " 72.0,\n",
       " 72.0,\n",
       " 72.5,\n",
       " 72.0,\n",
       " 74.0,\n",
       " 72.5,\n",
       " 72.0,\n",
       " 72.0,\n",
       " 72.5,\n",
       " 72.0,\n",
       " 72.0,\n",
       " 74.5,\n",
       " 72.0,\n",
       " 72.0,\n",
       " 72.5,\n",
       " 72.0,\n",
       " 72.0,\n",
       " nan,\n",
       " nan,\n",
       " nan,\n",
       " nan,\n",
       " nan,\n",
       " nan,\n",
       " nan,\n",
       " nan,\n",
       " nan,\n",
       " nan,\n",
       " nan]"
      ]
     },
     "execution_count": 59,
     "metadata": {},
     "output_type": "execute_result"
    }
   ],
   "source": [
    "\n",
    "off_df = list(states_df.apply(lambda state: state.set_point if not state.heat_on else None, axis=1))\n",
    "off_df"
   ]
  },
  {
   "cell_type": "code",
   "execution_count": null,
   "metadata": {},
   "outputs": [],
   "source": [
    "def _plot_temps_states(temps, states):\n",
    "    \"\"\"Generate template params for plotting the given temps\n",
    "\n",
    "    Args:\n",
    "\n",
    "    Returns:\n",
    "        dict: params for template\n",
    "\n",
    "    \"\"\"\n",
    "    temp_values = temps.temp\n",
    "    \n",
    "    set_points = set_points or []\n",
    "    labels = [datetimefilter(s) for s in labels]\n",
    "    temp_values_fmt = [\"{:.2f}\".format(s) if not np.isnan(s) else None for s in temps]\n",
    "    set_points_fmt = [\"{:.2f}\".format(s) if not np.isnan(s) else None for s in set_points]\n",
    "    # current_app.logger.debug(\"\\nLabels: {}\\nValues: {}\".format(\", \".join(labels), \", \".join(temp_values_fmt)))\n",
    "    ymin = min([s for s in temps + set_points]) - 1 if temps + set_points else 0\n",
    "    ymax = max([s for s in temps + set_points]) + 1 if temps + set_points else 100\n",
    "    return {\n",
    "        \"labels\": labels,\n",
    "        \"temp_values\": temp_values_fmt,\n",
    "        \"set_points_heaton\": set_points_fmt,\n",
    "        \"set_points_heatoff\": set_points_fmt,\n",
    "        \"y_min\": ymin,\n",
    "        \"y_max\": ymax,\n",
    "    }"
   ]
  }
 ],
 "metadata": {
  "kernelspec": {
   "display_name": "Python 3",
   "language": "python",
   "name": "python3"
  },
  "language_info": {
   "codemirror_mode": {
    "name": "ipython",
    "version": 3
   },
   "file_extension": ".py",
   "mimetype": "text/x-python",
   "name": "python",
   "nbconvert_exporter": "python",
   "pygments_lexer": "ipython3",
   "version": "3.6.5"
  }
 },
 "nbformat": 4,
 "nbformat_minor": 2
}
